{
 "cells": [
  {
   "cell_type": "code",
   "execution_count": 6,
   "metadata": {},
   "outputs": [],
   "source": [
    "import random\n",
    "import subprocess\n",
    "import os"
   ]
  },
  {
   "cell_type": "code",
   "execution_count": 7,
   "metadata": {},
   "outputs": [
    {
     "data": {
      "text/plain": [
       "CompletedProcess(args=['git', 'commit', '-m', 'init file'], returncode=0)"
      ]
     },
     "execution_count": 7,
     "metadata": {},
     "output_type": "execute_result"
    }
   ],
   "source": [
    "commit_message = f\"init file\"\n",
    "env = os.environ.copy()\n",
    "env.update({\n",
    "    \"GIT_AUTHOR_DATE\": \"2024-05-21T18:00:00\",\n",
    "    \"GIT_COMMITTER_DATE\": \"2024-05-21T18:00:00\"\n",
    "})\n",
    "subprocess.run(\n",
    "    [\"git\", \"commit\", \"-m\", commit_message],\n",
    "    env=env,\n",
    "    check=True)"
   ]
  },
  {
   "cell_type": "code",
   "execution_count": null,
   "metadata": {},
   "outputs": [],
   "source": [
    "commit_message = f\"update this ipynb itself\"\n",
    "env = os.environ.copy()\n",
    "env.update({\n",
    "    \"GIT_AUTHOR_DATE\": \"2024-05-21T18:00:01\",\n",
    "    \"GIT_COMMITTER_DATE\": \"2024-05-21T18:00:01\"\n",
    "})\n",
    "subprocess.run(\n",
    "    [\"git\", \"commit\", \"-m\", commit_message],\n",
    "    env=env,\n",
    "    check=True)"
   ]
  }
 ],
 "metadata": {
  "kernelspec": {
   "display_name": ".venv",
   "language": "python",
   "name": "python3"
  },
  "language_info": {
   "codemirror_mode": {
    "name": "ipython",
    "version": 3
   },
   "file_extension": ".py",
   "mimetype": "text/x-python",
   "name": "python",
   "nbconvert_exporter": "python",
   "pygments_lexer": "ipython3",
   "version": "3.13.1"
  }
 },
 "nbformat": 4,
 "nbformat_minor": 2
}
